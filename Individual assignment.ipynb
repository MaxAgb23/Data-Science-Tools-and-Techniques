{
 "cells": [
  {
   "cell_type": "code",
   "execution_count": 1,
   "id": "6b8e3361",
   "metadata": {},
   "outputs": [],
   "source": [
    "import pandas as pd\n",
    "import tkinter as tk\n",
    "from tkinter import messagebox\n",
    "import ipywidgets as widgets\n",
    "from IPython.display import display"
   ]
  },
  {
   "cell_type": "code",
   "execution_count": 2,
   "id": "61d72157",
   "metadata": {},
   "outputs": [
    {
     "data": {
      "text/html": [
       "<div>\n",
       "<style scoped>\n",
       "    .dataframe tbody tr th:only-of-type {\n",
       "        vertical-align: middle;\n",
       "    }\n",
       "\n",
       "    .dataframe tbody tr th {\n",
       "        vertical-align: top;\n",
       "    }\n",
       "\n",
       "    .dataframe thead th {\n",
       "        text-align: right;\n",
       "    }\n",
       "</style>\n",
       "<table border=\"1\" class=\"dataframe\">\n",
       "  <thead>\n",
       "    <tr style=\"text-align: right;\">\n",
       "      <th></th>\n",
       "      <th>Unnamed: 0</th>\n",
       "      <th>Address</th>\n",
       "      <th>Zip</th>\n",
       "      <th>Price</th>\n",
       "      <th>Area</th>\n",
       "      <th>Room</th>\n",
       "      <th>Lon</th>\n",
       "      <th>Lat</th>\n",
       "    </tr>\n",
       "  </thead>\n",
       "  <tbody>\n",
       "    <tr>\n",
       "      <th>0</th>\n",
       "      <td>1</td>\n",
       "      <td>Blasiusstraat 8 2, Amsterdam</td>\n",
       "      <td>1091 CR</td>\n",
       "      <td>685000.0</td>\n",
       "      <td>64</td>\n",
       "      <td>3</td>\n",
       "      <td>4.907736</td>\n",
       "      <td>52.356157</td>\n",
       "    </tr>\n",
       "    <tr>\n",
       "      <th>1</th>\n",
       "      <td>2</td>\n",
       "      <td>Kromme Leimuidenstraat 13 H, Amsterdam</td>\n",
       "      <td>1059 EL</td>\n",
       "      <td>475000.0</td>\n",
       "      <td>60</td>\n",
       "      <td>3</td>\n",
       "      <td>4.850476</td>\n",
       "      <td>52.348586</td>\n",
       "    </tr>\n",
       "    <tr>\n",
       "      <th>2</th>\n",
       "      <td>3</td>\n",
       "      <td>Zaaiersweg 11 A, Amsterdam</td>\n",
       "      <td>1097 SM</td>\n",
       "      <td>850000.0</td>\n",
       "      <td>109</td>\n",
       "      <td>4</td>\n",
       "      <td>4.944774</td>\n",
       "      <td>52.343782</td>\n",
       "    </tr>\n",
       "    <tr>\n",
       "      <th>3</th>\n",
       "      <td>4</td>\n",
       "      <td>Tenerifestraat 40, Amsterdam</td>\n",
       "      <td>1060 TH</td>\n",
       "      <td>580000.0</td>\n",
       "      <td>128</td>\n",
       "      <td>6</td>\n",
       "      <td>4.789928</td>\n",
       "      <td>52.343712</td>\n",
       "    </tr>\n",
       "    <tr>\n",
       "      <th>4</th>\n",
       "      <td>5</td>\n",
       "      <td>Winterjanpad 21, Amsterdam</td>\n",
       "      <td>1036 KN</td>\n",
       "      <td>720000.0</td>\n",
       "      <td>138</td>\n",
       "      <td>5</td>\n",
       "      <td>4.902503</td>\n",
       "      <td>52.410538</td>\n",
       "    </tr>\n",
       "  </tbody>\n",
       "</table>\n",
       "</div>"
      ],
      "text/plain": [
       "   Unnamed: 0                                 Address      Zip     Price  \\\n",
       "0           1            Blasiusstraat 8 2, Amsterdam  1091 CR  685000.0   \n",
       "1           2  Kromme Leimuidenstraat 13 H, Amsterdam  1059 EL  475000.0   \n",
       "2           3              Zaaiersweg 11 A, Amsterdam  1097 SM  850000.0   \n",
       "3           4            Tenerifestraat 40, Amsterdam  1060 TH  580000.0   \n",
       "4           5              Winterjanpad 21, Amsterdam  1036 KN  720000.0   \n",
       "\n",
       "   Area  Room       Lon        Lat  \n",
       "0    64     3  4.907736  52.356157  \n",
       "1    60     3  4.850476  52.348586  \n",
       "2   109     4  4.944774  52.343782  \n",
       "3   128     6  4.789928  52.343712  \n",
       "4   138     5  4.902503  52.410538  "
      ]
     },
     "execution_count": 2,
     "metadata": {},
     "output_type": "execute_result"
    }
   ],
   "source": [
    "data = pd.read_csv('Individual Assignment/HousingPrices.csv')\n",
    "data.head()\n",
    "\n"
   ]
  },
  {
   "cell_type": "code",
   "execution_count": 5,
   "id": "164e97fd",
   "metadata": {},
   "outputs": [
    {
     "data": {
      "application/vnd.jupyter.widget-view+json": {
       "model_id": "806d0380adc045ceb604ff4ac98fd426",
       "version_major": 2,
       "version_minor": 0
      },
      "text/plain": [
       "IntText(value=1, description='Number of Rooms:')"
      ]
     },
     "metadata": {},
     "output_type": "display_data"
    },
    {
     "data": {
      "application/vnd.jupyter.widget-view+json": {
       "model_id": "4ef2de7b15484355a241ec24ead1997c",
       "version_major": 2,
       "version_minor": 0
      },
      "text/plain": [
       "FloatText(value=0.0, description='Min Price:')"
      ]
     },
     "metadata": {},
     "output_type": "display_data"
    },
    {
     "data": {
      "application/vnd.jupyter.widget-view+json": {
       "model_id": "5db047da514f4951ba531344b7fd5e5a",
       "version_major": 2,
       "version_minor": 0
      },
      "text/plain": [
       "FloatText(value=0.0, description='Max Price:')"
      ]
     },
     "metadata": {},
     "output_type": "display_data"
    },
    {
     "data": {
      "application/vnd.jupyter.widget-view+json": {
       "model_id": "f46b423eb6454bb1985733db247b98e7",
       "version_major": 2,
       "version_minor": 0
      },
      "text/plain": [
       "Button(description='Search', style=ButtonStyle())"
      ]
     },
     "metadata": {},
     "output_type": "display_data"
    },
    {
     "data": {
      "application/vnd.jupyter.widget-view+json": {
       "model_id": "f363a9e3750644e5be20b55d9bc1d91a",
       "version_major": 2,
       "version_minor": 0
      },
      "text/plain": [
       "Output()"
      ]
     },
     "metadata": {},
     "output_type": "display_data"
    },
    {
     "name": "stdout",
     "output_type": "stream",
     "text": [
      "Contact the Amsterdam municipality for more information regarding the house of your desire. Happy House Hunting!\n"
     ]
    }
   ],
   "source": [
    "\n",
    "data = pd.read_csv('Individual Assignment/HousingPrices.csv')\n",
    "\n",
    "# Create widgets for number of rooms and price range\n",
    "num_rooms_widget = widgets.IntText(description=\"Number of Rooms:\", value=1)\n",
    "min_price_widget = widgets.FloatText(description=\"Min Price:\")\n",
    "max_price_widget = widgets.FloatText(description=\"Max Price:\")\n",
    "\n",
    "# Creating a button for triggering the search\n",
    "search_button = widgets.Button(description=\"Search\")\n",
    "\n",
    "# Creating an output widget for displaying the results\n",
    "output = widgets.Output()\n",
    "\n",
    "# Function to handle the search button click\n",
    "def perform_search(num_rooms, min_price, max_price):\n",
    "    # Filtering the dataset based on user's criteria\n",
    "    filtered_results = data[\n",
    "        (data['Room'] == num_rooms) &\n",
    "        (data['Price'] >= min_price) &\n",
    "        (data['Price'] <= max_price)\n",
    "    ]\n",
    "    return filtered_results.to_dict(orient='records')\n",
    "\n",
    "def search_button_clicked(b):\n",
    "    num_rooms = num_rooms_widget.value\n",
    "    min_price = min_price_widget.value\n",
    "    max_price = max_price_widget.value\n",
    "\n",
    "    # Performing the search\n",
    "    search_results = perform_search(num_rooms, min_price, max_price)\n",
    "\n",
    "    # Displaying the search results with checkboxes\n",
    "    with output:\n",
    "        output.clear_output()\n",
    "        print(f\"Search results for {num_rooms} room(s) in the price range of {min_price} to {max_price}:\")\n",
    "\n",
    "        if not search_results:\n",
    "            print(\"No matching addresses found.\")\n",
    "        else:\n",
    "            checkboxes = []\n",
    "            for idx, result in enumerate(search_results):\n",
    "                checkbox = widgets.Checkbox(value=False, description=f\"Select {idx + 1}\")\n",
    "                checkboxes.append(checkbox)\n",
    "                display(widgets.HBox([checkbox, widgets.Label(f\"Address: {result['Address']}\")]))\n",
    "            \n",
    "            # Button to get selected results\n",
    "            get_selected_button = widgets.Button(description=\"Get Selected Results\")\n",
    "            get_selected_button.on_click(lambda x: get_selected_results(checkboxes, search_results))\n",
    "            display(get_selected_button)\n",
    "\n",
    "def get_selected_results(checkboxes, search_results):\n",
    "    selected_results = [result for checkbox, result in zip(checkboxes, search_results) if checkbox.value]\n",
    "    print(\"\\nSelected Results:\")\n",
    "    for result in selected_results:\n",
    "        print(f\"Address: {result['Address']}\")\n",
    "        print(f\"Rooms: {result['Room']}\")\n",
    "        print(f\"Price: {result['Price']}\")\n",
    "        print(f\"Area: {result['Area']}\")\n",
    "        print(\"------------------------\")\n",
    "\n",
    "# Attach the search function to the button's click event\n",
    "search_button.on_click(search_button_clicked)\n",
    "\n",
    "# Display the widgets and button\n",
    "display(num_rooms_widget, min_price_widget, max_price_widget, search_button, output)\n",
    "\n",
    "\n",
    "print(\"Contact the Amsterdam municipality for more information regarding the house of your desire. Happy House Hunting!\")\n"
   ]
  },
  {
   "cell_type": "code",
   "execution_count": null,
   "id": "ccf1f88b",
   "metadata": {},
   "outputs": [],
   "source": []
  },
  {
   "cell_type": "code",
   "execution_count": null,
   "id": "0ec0d180",
   "metadata": {},
   "outputs": [],
   "source": []
  }
 ],
 "metadata": {
  "kernelspec": {
   "display_name": "Python 3 (ipykernel)",
   "language": "python",
   "name": "python3"
  },
  "language_info": {
   "codemirror_mode": {
    "name": "ipython",
    "version": 3
   },
   "file_extension": ".py",
   "mimetype": "text/x-python",
   "name": "python",
   "nbconvert_exporter": "python",
   "pygments_lexer": "ipython3",
   "version": "3.11.4"
  }
 },
 "nbformat": 4,
 "nbformat_minor": 5
}
